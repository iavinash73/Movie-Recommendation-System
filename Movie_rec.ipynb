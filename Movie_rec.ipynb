{
 "cells": [
  {
   "cell_type": "code",
   "execution_count": 1,
   "id": "54ae89d7",
   "metadata": {},
   "outputs": [],
   "source": [
    "import pandas as pd\n",
    "import numpy as np\n",
    "from IPython.display import display\n",
    "from collections import Counter\n",
    "from sklearn.metrics.pairwise import cosine_similarity"
   ]
  },
  {
   "cell_type": "code",
   "execution_count": 3,
   "id": "d441078a",
   "metadata": {},
   "outputs": [
    {
     "name": "stdout",
     "output_type": "stream",
     "text": [
      "\n",
      "\n",
      "\n",
      "movies_data table\n",
      "   movieId                               title  \\\n",
      "0        1                    Toy Story (1995)   \n",
      "1        2                      Jumanji (1995)   \n",
      "2        3             Grumpier Old Men (1995)   \n",
      "3        4            Waiting to Exhale (1995)   \n",
      "4        5  Father of the Bride Part II (1995)   \n",
      "\n",
      "                                        genres  \n",
      "0  Adventure|Animation|Children|Comedy|Fantasy  \n",
      "1                   Adventure|Children|Fantasy  \n",
      "2                               Comedy|Romance  \n",
      "3                         Comedy|Drama|Romance  \n",
      "4                                       Comedy  \n",
      "\n",
      "\n",
      "\n",
      "genome_scores_data table \n",
      "   movieId  tagId  relevance\n",
      "0        1      1    0.02875\n",
      "1        1      2    0.02375\n",
      "2        1      3    0.06250\n",
      "3        1      4    0.07575\n",
      "4        1      5    0.14075\n",
      "\n",
      "\n",
      "\n",
      "ratings_data table\n",
      "   userId  movieId  rating   timestamp\n",
      "0       1      296     5.0  1147880044\n",
      "1       1      306     3.5  1147868817\n",
      "2       1      307     5.0  1147868828\n",
      "3       1      665     5.0  1147878820\n",
      "4       1      899     3.5  1147868510\n"
     ]
    }
   ],
   "source": [
    "genome_scores_data = pd.read_csv(\n",
    "    \"//Users//avinashpr//Documents//Vs code//movie recommendation//project_dataset//ml-25m//genome-scores.csv\")\n",
    "movies_data = pd.read_csv(\n",
    "    \"//Users//avinashpr//Documents//Vs code//movie recommendation//project_dataset//ml-25m//movies.csv\")\n",
    "ratings_data = pd.read_csv(\n",
    "    \"//Users//avinashpr//Documents//Vs code//movie recommendation//project_dataset//ml-25m//ratings.csv\")\n",
    "print(\"\\n\\n\\nmovies_data table\")\n",
    "print(movies_data.head())\n",
    "print(\"\\n\\n\\ngenome_scores_data table \")\n",
    "print(genome_scores_data.head())\n",
    "print(\"\\n\\n\\nratings_data table\")\n",
    "print(ratings_data.head())"
   ]
  },
  {
   "cell_type": "code",
   "execution_count": 4,
   "id": "6b35920d",
   "metadata": {},
   "outputs": [],
   "source": [
    "scores_pivot = genome_scores_data.pivot_table(\n",
    "    index=[\"movieId\"], columns=[\"tagId\"], values=\"relevance\").reset_index()"
   ]
  },
  {
   "cell_type": "code",
   "execution_count": 5,
   "id": "dc3a3d22",
   "metadata": {},
   "outputs": [
    {
     "name": "stdout",
     "output_type": "stream",
     "text": [
      "\n",
      "\n",
      "\n",
      "mov_tag_df with the movies and the tag's relavance data.\n",
      "   movieId        1        2        3        4        5        6        7  \\\n",
      "0        1  0.02875  0.02375  0.06250  0.07575  0.14075  0.14675  0.06350   \n",
      "1        2  0.04125  0.04050  0.06275  0.08275  0.09100  0.06125  0.06925   \n",
      "2        3  0.04675  0.05550  0.02925  0.08700  0.04750  0.04775  0.04600   \n",
      "3        4  0.03425  0.03800  0.04050  0.03100  0.06500  0.03575  0.02900   \n",
      "4        5  0.04300  0.05325  0.03800  0.04100  0.05400  0.06725  0.02775   \n",
      "\n",
      "         8       9  ...     1119     1120     1121     1122     1123     1124  \\\n",
      "0  0.20375  0.2020  ...  0.04050  0.01425  0.03050  0.03500  0.14125  0.05775   \n",
      "1  0.09600  0.0765  ...  0.05250  0.01575  0.01250  0.02000  0.12225  0.03275   \n",
      "2  0.14275  0.0285  ...  0.06275  0.01950  0.02225  0.02300  0.12200  0.03475   \n",
      "3  0.08650  0.0320  ...  0.05325  0.02800  0.01675  0.03875  0.18200  0.07050   \n",
      "4  0.07650  0.0215  ...  0.05350  0.02050  0.01425  0.02550  0.19225  0.02675   \n",
      "\n",
      "      1125     1126     1127     1128  \n",
      "0  0.03900  0.02975  0.08475  0.02200  \n",
      "1  0.02100  0.01100  0.10525  0.01975  \n",
      "2  0.01700  0.01800  0.09100  0.01775  \n",
      "3  0.01625  0.01425  0.08850  0.01500  \n",
      "4  0.01625  0.01300  0.08700  0.01600  \n",
      "\n",
      "[5 rows x 1129 columns]\n"
     ]
    }
   ],
   "source": [
    "# join\n",
    "mov_tag_df = movies_data.merge(\n",
    "    scores_pivot, left_on=\"movieId\", right_on=\"movieId\", how=\"left\")\n",
    "mov_tag_df = mov_tag_df.fillna(0)\n",
    "mov_genres_df = movies_data\n",
    "mov_tag_df = mov_tag_df.drop(['title', 'genres'], axis=1)\n",
    "print(\"\\n\\n\\nmov_tag_df with the movies and the tag's relavance data.\")\n",
    "print(mov_tag_df.head())"
   ]
  },
  {
   "cell_type": "code",
   "execution_count": 6,
   "id": "379fe472",
   "metadata": {},
   "outputs": [],
   "source": [
    "def set_genres(genres, col):\n",
    "    if genres in col.split('|'):\n",
    "        return 1\n",
    "    else:\n",
    "        return 0"
   ]
  },
  {
   "cell_type": "code",
   "execution_count": 7,
   "id": "3b6b246c",
   "metadata": {},
   "outputs": [
    {
     "name": "stdout",
     "output_type": "stream",
     "text": [
      "\n",
      "\n",
      "\n",
      "mov_genres_df with movie's genres data.\n",
      "   movieId  Action  Adventure  Animation  Children  Comedy  Crime  \\\n",
      "0        1       0          1          1         1       1      0   \n",
      "1        2       0          1          0         1       0      0   \n",
      "2        3       0          0          0         0       1      0   \n",
      "3        4       0          0          0         0       1      0   \n",
      "4        5       0          0          0         0       1      0   \n",
      "\n",
      "   Documentary  Drama  Fantasy  Film-Noir  Horror  Musical  Mystery  Romance  \\\n",
      "0            0      0        1          0       0        0        0        0   \n",
      "1            0      0        1          0       0        0        0        0   \n",
      "2            0      0        0          0       0        0        0        1   \n",
      "3            0      1        0          0       0        0        0        1   \n",
      "4            0      0        0          0       0        0        0        0   \n",
      "\n",
      "   Sci-Fi  Thriller  War  Western  (no genres listed)  \n",
      "0       0         0    0        0                   0  \n",
      "1       0         0    0        0                   0  \n",
      "2       0         0    0        0                   0  \n",
      "3       0         0    0        0                   0  \n",
      "4       0         0    0        0                   0  \n"
     ]
    }
   ],
   "source": [
    "mov_genres_df[\"Action\"] = mov_genres_df.apply(\n",
    "    lambda x: set_genres(\"Action\", x['genres']), axis=1)\n",
    "mov_genres_df[\"Adventure\"] = mov_genres_df.apply(\n",
    "    lambda x: set_genres(\"Adventure\", x['genres']), axis=1)\n",
    "mov_genres_df[\"Animation\"] = mov_genres_df.apply(\n",
    "    lambda x: set_genres(\"Animation\", x['genres']), axis=1)\n",
    "mov_genres_df[\"Children\"] = mov_genres_df.apply(\n",
    "    lambda x: set_genres(\"Children\", x['genres']), axis=1)\n",
    "mov_genres_df[\"Comedy\"] = mov_genres_df.apply(\n",
    "    lambda x: set_genres(\"Comedy\", x['genres']), axis=1)\n",
    "mov_genres_df[\"Crime\"] = mov_genres_df.apply(\n",
    "    lambda x: set_genres(\"Crime\", x['genres']), axis=1)\n",
    "mov_genres_df[\"Documentary\"] = mov_genres_df.apply(\n",
    "    lambda x: set_genres(\"Documentary\", x['genres']), axis=1)\n",
    "mov_genres_df[\"Drama\"] = mov_genres_df.apply(\n",
    "    lambda x: set_genres(\"Drama\", x['genres']), axis=1)\n",
    "mov_genres_df[\"Fantasy\"] = mov_genres_df.apply(\n",
    "    lambda x: set_genres(\"Fantasy\", x['genres']), axis=1)\n",
    "mov_genres_df[\"Film-Noir\"] = mov_genres_df.apply(\n",
    "    lambda x: set_genres(\"Film-Noir\", x['genres']), axis=1)\n",
    "mov_genres_df[\"Horror\"] = mov_genres_df.apply(\n",
    "    lambda x: set_genres(\"Horror\", x['genres']), axis=1)\n",
    "mov_genres_df[\"Musical\"] = mov_genres_df.apply(\n",
    "    lambda x: set_genres(\"Musical\", x['genres']), axis=1)\n",
    "mov_genres_df[\"Mystery\"] = mov_genres_df.apply(\n",
    "    lambda x: set_genres(\"Mystery\", x['genres']), axis=1)\n",
    "mov_genres_df[\"Romance\"] = mov_genres_df.apply(\n",
    "    lambda x: set_genres(\"Romance\", x['genres']), axis=1)\n",
    "mov_genres_df[\"Sci-Fi\"] = mov_genres_df.apply(\n",
    "    lambda x: set_genres(\"Sci-Fi\", x['genres']), axis=1)\n",
    "mov_genres_df[\"Thriller\"] = mov_genres_df.apply(\n",
    "    lambda x: set_genres(\"Thriller\", x['genres']), axis=1)\n",
    "mov_genres_df[\"War\"] = mov_genres_df.apply(\n",
    "    lambda x: set_genres(\"War\", x['genres']), axis=1)\n",
    "mov_genres_df[\"Western\"] = mov_genres_df.apply(\n",
    "    lambda x: set_genres(\"Western\", x['genres']), axis=1)\n",
    "mov_genres_df[\"(no genres listed)\"] = mov_genres_df.apply(\n",
    "    lambda x: set_genres(\"(no genres listed)\", x['genres']), axis=1)\n",
    "mov_genres_df.drop(['title', 'genres'], axis=1, inplace=True)\n",
    "print(\"\\n\\n\\nmov_genres_df with movie's genres data.\")\n",
    "print(mov_genres_df.head())"
   ]
  },
  {
   "cell_type": "code",
   "execution_count": 8,
   "id": "37ca723c",
   "metadata": {},
   "outputs": [],
   "source": [
    "def set_year(title):\n",
    "    year = title.strip()[-5:-1]\n",
    "    if year.isnumeric() == True:\n",
    "        return int(year)\n",
    "    else:\n",
    "        return 1800"
   ]
  },
  {
   "cell_type": "code",
   "execution_count": 9,
   "id": "acc98f48",
   "metadata": {},
   "outputs": [],
   "source": [
    "# add year field to the df\n",
    "movies = pd.read_csv(\n",
    "    \"//Users//avinashpr//Documents//Vs code//movie recommendation//project_dataset//ml-25m//movies.csv\")\n",
    "movies['year'] = movies.apply(lambda x: set_year(x['title']), axis=1)\n",
    "movies = movies.drop('genres', axis=1)"
   ]
  },
  {
   "cell_type": "code",
   "execution_count": 10,
   "id": "7efefa9f",
   "metadata": {},
   "outputs": [],
   "source": [
    "def set_year_group(year):\n",
    "    if (year < 1900):\n",
    "        return 0\n",
    "    elif (1900 <= year <= 1975):\n",
    "        return 1\n",
    "    elif (1976 <= year <= 1995):\n",
    "        return 2\n",
    "    elif (1996 <= year <= 2003):\n",
    "        return 3\n",
    "    elif (2004 <= year <= 2009):\n",
    "        return 4\n",
    "    elif (2010 <= year):\n",
    "        return 5\n",
    "    else:\n",
    "        return 0\n"
   ]
  },
  {
   "cell_type": "code",
   "execution_count": 11,
   "id": "5f5692a5",
   "metadata": {},
   "outputs": [],
   "source": [
    "movies['year_group'] = movies.apply(\n",
    "    lambda x: set_year_group(x['year']), axis=1)\n",
    "# no need title and year fields\n",
    "movies.drop(['title', 'year'], axis=1, inplace=True)\n",
    "agg_movies_rat = ratings_data.groupby(['movieId']).agg(\n",
    "    {'rating': [np.size, np.mean]}).reset_index()\n",
    "agg_movies_rat.columns = ['movieId', 'rating_counts', 'rating_mean']"
   ]
  },
  {
   "cell_type": "code",
   "execution_count": 12,
   "id": "648b2e85",
   "metadata": {},
   "outputs": [],
   "source": [
    "def set_rating_group(rating_counts):\n",
    "    if (rating_counts <= 1):\n",
    "        return 0\n",
    "    elif (2 <= rating_counts <= 10):\n",
    "        return 1\n",
    "    elif (11 <= rating_counts <= 100):\n",
    "        return 2\n",
    "    elif (101 <= rating_counts <= 1000):\n",
    "        return 3\n",
    "    elif (1001 <= rating_counts <= 5000):\n",
    "        return 4\n",
    "    elif (5001 <= rating_counts):\n",
    "        return 5\n",
    "    else:\n",
    "        return 0\n"
   ]
  },
  {
   "cell_type": "code",
   "execution_count": 13,
   "id": "278ef46e",
   "metadata": {},
   "outputs": [
    {
     "name": "stdout",
     "output_type": "stream",
     "text": [
      "\n",
      "\n",
      "\n",
      "Mov_rating_df with movie's mean rating and total rating scores.\n",
      "   movieId  year_group  rating_mean  rating_group\n",
      "0        1           2     3.893708             5\n",
      "1        2           2     3.251527             5\n",
      "2        3           2     3.142028             5\n",
      "3        4           2     2.853547             4\n",
      "4        5           2     3.058434             5\n"
     ]
    }
   ],
   "source": [
    "agg_movies_rat['rating_group'] = agg_movies_rat.apply(\n",
    "    lambda x: set_rating_group(x['rating_counts']), axis=1)\n",
    "# no need rating_counts field\n",
    "agg_movies_rat.drop('rating_counts', axis=1, inplace=True)\n",
    "mov_rating_df = movies.merge(\n",
    "    agg_movies_rat, left_on='movieId', right_on='movieId', how='left')\n",
    "mov_rating_df = mov_rating_df.fillna(0)\n",
    "print(\"\\n\\n\\nMov_rating_df with movie's mean rating and total rating scores.\")\n",
    "print(mov_rating_df.head())"
   ]
  },
  {
   "cell_type": "code",
   "execution_count": 14,
   "id": "769daf27",
   "metadata": {},
   "outputs": [],
   "source": [
    "mov_tag_df = mov_tag_df.set_index('movieId')\n",
    "mov_genres_df = mov_genres_df.set_index('movieId')\n",
    "mov_rating_df = mov_rating_df.set_index('movieId')\n",
    "# cosine similarity for mov_tag_df\n",
    "cos_tag = cosine_similarity(mov_tag_df.values)*0.5\n",
    "# cosine similarity for mov_genres_df\n",
    "cos_genres = cosine_similarity(mov_genres_df.values)*0.25\n",
    "# cosine similarity for mov_rating_df\n",
    "cos_rating = cosine_similarity(mov_rating_df.values)*0.25"
   ]
  },
  {
   "cell_type": "code",
   "execution_count": 15,
   "id": "f18c773d",
   "metadata": {},
   "outputs": [],
   "source": [
    "# Combining the dfs\n",
    "cos = cos_tag+cos_genres+cos_rating\n",
    "cols = mov_tag_df.index.values\n",
    "inx = mov_tag_df.index\n",
    "movies_sim = pd.DataFrame(cos, columns=cols, index=inx)"
   ]
  },
  {
   "cell_type": "code",
   "execution_count": 16,
   "id": "c24eaff9",
   "metadata": {},
   "outputs": [],
   "source": [
    "def get_similar(movieId):\n",
    "    df = movies_sim.loc[movies_sim.index == movieId].reset_index(). \\\n",
    "        melt(id_vars='movieId', var_name='sim_movieId', value_name='relevance'). \\\n",
    "        sort_values('relevance', axis=0, ascending=False)[1:6]\n",
    "    return df\n"
   ]
  },
  {
   "cell_type": "code",
   "execution_count": 17,
   "id": "c03292ab",
   "metadata": {},
   "outputs": [
    {
     "name": "stdout",
     "output_type": "stream",
     "text": [
      "\n",
      "\n",
      "\n",
      "Movies_similarity df with similar movie and it's relevance to the movie.\n",
      "     movieId sim_movieId  relevance\n",
      "3021       1        3114   0.973616\n",
      "2264       1        2355   0.943426\n",
      "2203       1        2294   0.938578\n",
      "3912       1        4016   0.925936\n",
      "580        1         588   0.883866\n"
     ]
    }
   ],
   "source": [
    "# create empty\n",
    "movies_similarity = pd.DataFrame(\n",
    "    columns=['movieId', 'sim_movieId', 'relevance'])\n",
    "for x in movies_sim.index.tolist():\n",
    "    movies_similarity = pd.concat([movies_similarity, get_similar(x)])\n",
    "print(\"\\n\\n\\nMovies_similarity df with similar movie and it's relevance to the movie.\")\n",
    "print(movies_similarity.head())\n",
    "movies_dataa = pd.read_csv(\n",
    "    \"//Users//avinashpr//Documents//Vs code//movie recommendation//project_dataset//ml-25m//movies.csv\")"
   ]
  },
  {
   "cell_type": "code",
   "execution_count": 18,
   "id": "696009cc",
   "metadata": {},
   "outputs": [],
   "source": [
    "# movie_recommender function gives the top 5 similar movies.\n",
    "\n",
    "\n",
    "def movie_recommender(movieId):\n",
    "    df = movies_sim.loc[movies_sim.index == movieId].reset_index(). \\\n",
    "        melt(id_vars='movieId', var_name='sim_movieId', value_name='relevance'). \\\n",
    "        sort_values('relevance', axis=0, ascending=False)[1:6]\n",
    "    df['sim_movieId'] = df['sim_movieId'].astype(int)\n",
    "    sim_df = movies_dataa.merge(df, left_on='movieId', right_on='sim_movieId', how='inner'). \\\n",
    "        sort_values('relevance', axis=0, ascending=False). \\\n",
    "        loc[:, ['movieId_y', 'title']]. \\\n",
    "        rename(columns={'movieId_y': \"movieId\"})\n",
    "    return sim_df\n"
   ]
  },
  {
   "cell_type": "code",
   "execution_count": 19,
   "id": "1300f1f7",
   "metadata": {},
   "outputs": [
    {
     "name": "stdout",
     "output_type": "stream",
     "text": [
      "\n",
      "\n",
      "\n",
      "Test Recommendation.\n",
      "Recommendations for the movie Toy Story (1995)\n"
     ]
    },
    {
     "data": {
      "text/html": [
       "<div>\n",
       "<style scoped>\n",
       "    .dataframe tbody tr th:only-of-type {\n",
       "        vertical-align: middle;\n",
       "    }\n",
       "\n",
       "    .dataframe tbody tr th {\n",
       "        vertical-align: top;\n",
       "    }\n",
       "\n",
       "    .dataframe thead th {\n",
       "        text-align: right;\n",
       "    }\n",
       "</style>\n",
       "<table border=\"1\" class=\"dataframe\">\n",
       "  <thead>\n",
       "    <tr style=\"text-align: right;\">\n",
       "      <th></th>\n",
       "      <th>movieId</th>\n",
       "      <th>title</th>\n",
       "    </tr>\n",
       "  </thead>\n",
       "  <tbody>\n",
       "    <tr>\n",
       "      <th>3</th>\n",
       "      <td>1</td>\n",
       "      <td>Toy Story 2 (1999)</td>\n",
       "    </tr>\n",
       "    <tr>\n",
       "      <th>2</th>\n",
       "      <td>1</td>\n",
       "      <td>Bug's Life, A (1998)</td>\n",
       "    </tr>\n",
       "    <tr>\n",
       "      <th>1</th>\n",
       "      <td>1</td>\n",
       "      <td>Antz (1998)</td>\n",
       "    </tr>\n",
       "    <tr>\n",
       "      <th>4</th>\n",
       "      <td>1</td>\n",
       "      <td>Emperor's New Groove, The (2000)</td>\n",
       "    </tr>\n",
       "    <tr>\n",
       "      <th>0</th>\n",
       "      <td>1</td>\n",
       "      <td>Aladdin (1992)</td>\n",
       "    </tr>\n",
       "  </tbody>\n",
       "</table>\n",
       "</div>"
      ],
      "text/plain": [
       "   movieId                             title\n",
       "3        1                Toy Story 2 (1999)\n",
       "2        1              Bug's Life, A (1998)\n",
       "1        1                       Antz (1998)\n",
       "4        1  Emperor's New Groove, The (2000)\n",
       "0        1                    Aladdin (1992)"
      ]
     },
     "metadata": {},
     "output_type": "display_data"
    }
   ],
   "source": [
    "print(\"\\n\\n\\nTest Recommendation.\")\n",
    "print(\"Recommendations for the movie\", movies_dataa.iloc[0]['title'])\n",
    "display(movie_recommender(1))"
   ]
  },
  {
   "cell_type": "code",
   "execution_count": 20,
   "id": "de5416e5",
   "metadata": {},
   "outputs": [
    {
     "name": "stdout",
     "output_type": "stream",
     "text": [
      "\n",
      "\n",
      "\n",
      "Users_df who has rated movies.\n",
      "   userId\n",
      "0       1\n",
      "1       2\n",
      "2       3\n",
      "3       4\n",
      "4       5\n"
     ]
    }
   ],
   "source": [
    "# manipulating the existing data to get movies_similarity df is done.\n",
    "# We create “users”, “movies”, “genres”, “users_movies”, “movies_genres”, “users_genres” datasets.\n",
    "# We use “users”, “movies” and “genres” datasets for nodes and others for relationships.\n",
    "\n",
    "# creating df for nodes\n",
    "# Getting the userID of users who has rated movies.\n",
    "users_df = pd.DataFrame(ratings_data['userId'].unique(), columns=['userId'])\n",
    "print(\"\\n\\n\\nUsers_df who has rated movies.\")\n",
    "print(users_df.head())"
   ]
  },
  {
   "cell_type": "code",
   "execution_count": 21,
   "id": "0fa0070c",
   "metadata": {},
   "outputs": [
    {
     "name": "stdout",
     "output_type": "stream",
     "text": [
      "\n",
      "\n",
      "\n",
      "Movies_df with their mean rating from all the users.\n",
      "   movieId                               title  rating_mean\n",
      "0        1                    Toy Story (1995)     3.893708\n",
      "1        2                      Jumanji (1995)     3.251527\n",
      "2        3             Grumpier Old Men (1995)     3.142028\n",
      "3        4            Waiting to Exhale (1995)     2.853547\n",
      "4        5  Father of the Bride Part II (1995)     3.058434\n"
     ]
    }
   ],
   "source": [
    "# create movies_df with the rating\n",
    "movies_df = movies_dataa.drop('genres', axis=1)\n",
    "# calculate mean of ratings for each movies\n",
    "agg_rating_avg = ratings_data.groupby(\n",
    "    ['movieId']).agg({'rating': np.mean}).reset_index()\n",
    "agg_rating_avg.columns = ['movieId', 'rating_mean']\n",
    "movies_df = movies_df.merge(\n",
    "    agg_rating_avg, left_on='movieId', right_on='movieId', how='left')\n",
    "print(\"\\n\\n\\nMovies_df with their mean rating from all the users.\")\n",
    "print(movies_df.head())"
   ]
  },
  {
   "cell_type": "code",
   "execution_count": 22,
   "id": "30fee827",
   "metadata": {},
   "outputs": [
    {
     "name": "stdout",
     "output_type": "stream",
     "text": [
      "\n",
      "\n",
      "\n",
      "genres_df with all the genres from movie list.\n",
      "      genres\n",
      "0     Action\n",
      "1  Adventure\n",
      "2  Animation\n",
      "3   Children\n",
      "4     Comedy\n"
     ]
    }
   ],
   "source": [
    "genres = [\n",
    "    \"Action\",\n",
    "    \"Adventure\",\n",
    "    \"Animation\",\n",
    "    \"Children\",\n",
    "    \"Comedy\",\n",
    "    \"Crime\",\n",
    "    \"Documentary\",\n",
    "    \"Drama\",\n",
    "    \"Fantasy\",\n",
    "    \"Film-Noir\",\n",
    "    \"Horror\",\n",
    "    \"Musical\",\n",
    "    \"Mystery\",\n",
    "    \"Romance\",\n",
    "    \"Sci-Fi\",\n",
    "    \"Thriller\",\n",
    "    \"War\",\n",
    "    \"Western\",\n",
    "    \"(no genres listed)\"]\n",
    "genres_df = pd.DataFrame(genres, columns=['genres'])\n",
    "print(\"\\n\\n\\ngenres_df with all the genres from movie list.\")\n",
    "print(genres_df.head())"
   ]
  },
  {
   "cell_type": "code",
   "execution_count": 23,
   "id": "5536d099",
   "metadata": {},
   "outputs": [
    {
     "name": "stdout",
     "output_type": "stream",
     "text": [
      "\n",
      "\n",
      "\n",
      "users_movies_df with each user's rating for particular movies.\n",
      "   userId  movieId  rating\n",
      "0       1      296     5.0\n",
      "1       1      306     3.5\n",
      "2       1      307     5.0\n",
      "3       1      665     5.0\n",
      "4       1      899     3.5\n"
     ]
    }
   ],
   "source": [
    "\n",
    "# creating df for relationships.\n",
    "\n",
    "users_movies_df = ratings_data.drop('timestamp', axis=1)\n",
    "# limiting users_movies df to make the computation faster.\n",
    "users_movies_df = users_movies_df.iloc[0:10000]\n",
    "print(\"\\n\\n\\nusers_movies_df with each user's rating for particular movies.\")\n",
    "print(users_movies_df.head())\n",
    "movies_genres_df = movies_dataa.drop('title', axis=1)"
   ]
  },
  {
   "cell_type": "code",
   "execution_count": 24,
   "id": "c47e236a",
   "metadata": {},
   "outputs": [],
   "source": [
    "# define a function to split genres field\n",
    "\n",
    "\n",
    "def get_movie_genres(movieId):\n",
    "    movie = movies_genres_df[movies_genres_df['movieId'] == movieId]\n",
    "    genres = movie['genres'].tolist()\n",
    "    df = pd.DataFrame([b for a in [i.split('|') for i in genres]\n",
    "                      for b in a], columns=['genres'])\n",
    "    df.insert(loc=0, column='movieId', value=movieId)\n",
    "    return df"
   ]
  },
  {
   "cell_type": "code",
   "execution_count": 25,
   "id": "b211fd52",
   "metadata": {},
   "outputs": [
    {
     "name": "stdout",
     "output_type": "stream",
     "text": [
      "\n",
      "\n",
      "\n",
      "movies_genres with movies and their genres seperately.\n",
      "  movieId     genres\n",
      "0       1  Adventure\n",
      "1       1  Animation\n",
      "2       1   Children\n",
      "3       1     Comedy\n",
      "4       1    Fantasy\n"
     ]
    }
   ],
   "source": [
    "# create empty df\n",
    "movies_genres = pd.DataFrame(columns=['movieId', 'genres'])\n",
    "for x in movies_genres_df['movieId'].tolist():\n",
    "    movies_genres = pd.concat([movies_genres, get_movie_genres(x)])\n",
    "print(\"\\n\\n\\nmovies_genres with movies and their genres seperately.\")\n",
    "print(movies_genres.head())"
   ]
  },
  {
   "cell_type": "code",
   "execution_count": 26,
   "id": "81c304e5",
   "metadata": {},
   "outputs": [],
   "source": [
    "# join to movies data to get genre information\n",
    "user_genres_df = ratings_data.merge(\n",
    "    movies_dataa, left_on='movieId', right_on='movieId', how='left')\n",
    "# drop columns that will not be used\n",
    "user_genres_df.drop(['movieId', 'rating', 'timestamp',\n",
    "                    'title'], axis=1, inplace=True)"
   ]
  },
  {
   "cell_type": "code",
   "execution_count": 27,
   "id": "52749c84",
   "metadata": {},
   "outputs": [],
   "source": [
    "\n",
    "def get_favorite_genre(userId):\n",
    "    user = user_genres_df[user_genres_df['userId'] == userId]\n",
    "    genres = user['genres'].tolist()\n",
    "    movie_list = [b for a in [i.split('|')\n",
    "                              for i in genres if str(i) != 'nan'] for b in a]\n",
    "    counter = Counter(movie_list)\n",
    "    if (len(counter.most_common(1)) != 0):\n",
    "        return counter.most_common(1)[0][0]\n",
    "    else:\n",
    "        return 'nothing'"
   ]
  },
  {
   "cell_type": "code",
   "execution_count": 28,
   "id": "5416ea1a",
   "metadata": {},
   "outputs": [
    {
     "name": "stdout",
     "output_type": "stream",
     "text": [
      "\n",
      "\n",
      "\n",
      "Users_genres with each user's favourite genre.\n",
      "  userId   genre\n",
      "0      1   Drama\n",
      "0      2   Drama\n",
      "0      3   Drama\n",
      "0      4  Action\n",
      "0      5  Comedy\n"
     ]
    }
   ],
   "source": [
    "# create empty df\n",
    "users_genres = pd.DataFrame(columns=['userId', 'genre'])\n",
    "for x in users_df['userId'].tolist():\n",
    "    if (x <= 5000):\n",
    "        users_genres = pd.concat([users_genres, pd.DataFrame(\n",
    "            [[x, get_favorite_genre(x)]], columns=['userId', 'genre'])])\n",
    "print(\"\\n\\n\\nUsers_genres with each user's favourite genre.\")\n",
    "print(users_genres.head())"
   ]
  },
  {
   "cell_type": "code",
   "execution_count": 29,
   "id": "25502412",
   "metadata": {},
   "outputs": [],
   "source": [
    "# exporting all the nodes and relationship dfs to the device to import it to the neo4j.\n",
    "users_df.to_csv(r'//Users//avinashpr//Documents//Vs code//movie recommendation//project_dataset//users.csv',\n",
    "                sep='|', header=True, index=False)\n",
    "movies_df.to_csv(r'//Users//avinashpr//Documents//Vs code//movie recommendation//project_dataset//movies.csv',\n",
    "                 sep='|', header=True, index=False)\n",
    "genres_df.to_csv(r'//Users//avinashpr//Documents//Vs code//movie recommendation//project_dataset//genres.csv',\n",
    "                 sep='|', header=True, index=False)\n",
    "users_movies_df.to_csv(\n",
    "    r'//Users//avinashpr//Documents//Vs code//movie recommendation//project_dataset//users_movies.csv', sep='|', header=True, index=False)\n",
    "movies_genres.to_csv(r'//Users//avinashpr//Documents//Vs code//movie recommendation//project_dataset//movies_genres.csv',\n",
    "                     sep='|', header=True, index=False)\n",
    "users_genres.to_csv(r'//Users//avinashpr//Documents//Vs code//movie recommendation//project_dataset//users_genres.csv',\n",
    "                    sep='|', header=True, index=False)\n",
    "movies_similarity.to_csv(\n",
    "    r'//Users//avinashpr//Documents//Vs code//movie recommendation//project_dataset//movies_similarity.csv', sep='|', header=True, index=False)"
   ]
  }
 ],
 "metadata": {
  "kernelspec": {
   "display_name": "Python 3 (ipykernel)",
   "language": "python",
   "name": "python3"
  },
  "language_info": {
   "codemirror_mode": {
    "name": "ipython",
    "version": 3
   },
   "file_extension": ".py",
   "mimetype": "text/x-python",
   "name": "python",
   "nbconvert_exporter": "python",
   "pygments_lexer": "ipython3",
   "version": "3.9.13"
  }
 },
 "nbformat": 4,
 "nbformat_minor": 5
}
